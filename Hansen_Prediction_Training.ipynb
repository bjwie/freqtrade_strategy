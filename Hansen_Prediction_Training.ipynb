{
 "cells": [
  {
   "cell_type": "code",
   "execution_count": null,
   "metadata": {},
   "outputs": [],
   "source": [
    "#This is not made by Hansen1015, I just edit a little bit of the code that makes it more reliable.\n",
    "#the author is https://github.com/Bturan19\n",
    "import os\n",
    "from pathlib import Path\n",
    "\n",
    "project_root = \"./freqtrade\"\n",
    "i=0\n",
    "try:\n",
    "    os.chdirdir(project_root)\n",
    "    assert Path('LICENSE').is_file()\n",
    "except:\n",
    "    while i<4 and (not Path('LICENSE').is_file()):\n",
    "        os.chdir(Path(Path.cwd(), '../'))\n",
    "        i+=1\n",
    "    project_root = Path.cwd()\n",
    "print(Path.cwd())"
   ]
  },
  {
   "cell_type": "code",
   "execution_count": null,
   "metadata": {},
   "outputs": [],
   "source": [
    "\n",
    "import json\n",
    "from freqtrade.configuration import Configuration\n",
    "\n",
    "# Load config from multiple files\n",
    "config = Configuration.from_files([\"config.json\"])\n",
    "#print(config)\n",
    "\n",
    "# Show the config in memory\n",
    "#print(json.dumps(config['original_config'], indent=2))"
   ]
  },
  {
   "cell_type": "markdown",
   "metadata": {},
   "source": [
    "## Start From Here"
   ]
  },
  {
   "cell_type": "code",
   "execution_count": null,
   "metadata": {},
   "outputs": [],
   "source": [
    "import pandas as pd\n",
    "pd.options.display.max_columns = 999\n",
    "import numpy as np\n",
    "import matplotlib.pyplot as plt\n",
    "%matplotlib inline\n",
    "# import jtplot submodule from jupyterthemes\n",
    "from jupyterthemes import jtplot\n",
    "jtplot.style()\n",
    "from tqdm import tqdm\n",
    "\n",
    "import sklearn\n",
    "import xgboost\n",
    "import catboost\n",
    "import scipy\n",
    "import talib.abstract as ta\n",
    "from scipy import signal\n",
    "from sklearn.preprocessing import StandardScaler, MinMaxScaler"
   ]
  },
  {
   "cell_type": "markdown",
   "metadata": {},
   "source": [
    "#### Read Files "
   ]
  },
  {
   "cell_type": "code",
   "execution_count": null,
   "metadata": {},
   "outputs": [],
   "source": [
    "### Helper Functions\n",
    "\n",
    "def add_features(df):\n",
    "    \"\"\"\n",
    "    This functions takes an OHLC dataframe;\n",
    "    creates functions and return dataframe\n",
    "    :params: pandas.DataFrame\n",
    "    \n",
    "    :output: pandas.DataFrame\n",
    "    \"\"\"\n",
    "\n",
    "    #sma diff\n",
    "    for i in [3,5,8,13,21,34,55,89,120,240]:\n",
    "        df[f\"smadiff_{i}\"] = (df['close'].rolling(i).mean() - df['close'])\n",
    "    #max diff\n",
    "    for i in [3,5,8,13,21,34,55,89,120,240]:\n",
    "        df[f\"maxdiff_{i}\"] = (df['close'].rolling(i).max() - df['close'])\n",
    "    #min diff\n",
    "    for i in [3,5,8,13,21,34,55,89,120,240]:\n",
    "        df[f\"maxdiff_{i}\"] = (df['close'].rolling(i).min() - df['close'])\n",
    "    #volatiliy\n",
    "    for i in [3,5,8,13,21,34,55,89,120,240]:\n",
    "        df[f\"std_{i}\"] = df['close'].rolling(i).std()\n",
    "    \n",
    "    #Return\n",
    "    for i in [3,5,8,13,21,34,55,89,120,240]:\n",
    "        df[f\"ma_{i}\"] = df['close'].pct_change(i).rolling(i).mean()\n",
    "    \n",
    "    df['z_score_120'] = ((df.ma_13 - df.ma_13.rolling(21).mean() + 1e-9) \n",
    "                         / (df.ma_13.rolling(21).std() + 1e-9))\n",
    "    \n",
    "    #Target\n",
    "    df[ \"target\"] = df['close'].shift(-7).pct_change(1).rolling(7).mean()\n",
    "    \n",
    "    return df\n",
    "    "
   ]
  },
  {
   "cell_type": "code",
   "execution_count": null,
   "metadata": {
    "scrolled": true
   },
   "outputs": [],
   "source": [
    "headers = [\"date\", \"open\", \"high\", \"low\", \"close\", \"volume\"]\n",
    "\n",
    "df = []\n",
    "\n",
    "for file in os.listdir(\"user_data/data/binance/\"):\n",
    "    if file.endswith(\"1h.json\"):\n",
    "        filename = os.path.join(\"user_data/data/binance/\", file)\n",
    "        print(f\"Starting read: {filename}\")\n",
    "        d1 = pd.read_json(filename)\n",
    "        d1.columns = headers\n",
    "        d1[\"stock\"] = file[:-8]\n",
    "        d1 = add_features(d1)\n",
    "        df.append(d1)\n",
    "\n",
    "df = pd.concat(df)\n",
    "print(\"Shape: \", df.shape)"
   ]
  },
  {
   "cell_type": "code",
   "execution_count": null,
   "metadata": {},
   "outputs": [],
   "source": [
    "# Format date\n",
    "df[\"date\"] = pd.to_datetime(df[\"date\"], unit='ms')\n",
    "df = df.reset_index(drop=True)"
   ]
  },
  {
   "cell_type": "code",
   "execution_count": null,
   "metadata": {},
   "outputs": [],
   "source": [
    "ax = df.loc[df.stock=='BTC_USDT', 'close'].plot(figsize=(12,8))\n",
    "df.loc[df.stock=='BTC_USDT', 'close'].rolling(30).std().plot(ax=ax, secondary_y=True)"
   ]
  },
  {
   "cell_type": "markdown",
   "metadata": {},
   "source": [
    "### Feature Engineering "
   ]
  },
  {
   "cell_type": "raw",
   "metadata": {},
   "source": [
    "stock_indexes = df.reset_index().groupby(\"stock\").index.agg(['min', 'max']).reset_index()\n",
    "stock_indexes.head()"
   ]
  },
  {
   "cell_type": "code",
   "execution_count": null,
   "metadata": {},
   "outputs": [],
   "source": [
    "# Drop new cryptos\n",
    "\n",
    "stock_size = df.groupby(\"stock\").size().sort_values().reset_index()\n",
    "stock_size.columns = [\"stock\", \"size\"]\n",
    "uneligible_stocks = stock_size.loc[stock_size[\"size\"] < 241].stock.to_list()\n",
    "\n",
    "df = df.loc[~df.stock.isin(uneligible_stocks)]"
   ]
  },
  {
   "cell_type": "code",
   "execution_count": null,
   "metadata": {},
   "outputs": [],
   "source": [
    "df['time_hourmin'] = df.date.dt.hour * 60 + df.date.dt.minute\n",
    "df['time_dayofweek'] = df.date.dt.dayofweek\n",
    "df['time_hour'] = df.date.dt.hour"
   ]
  },
  {
   "cell_type": "raw",
   "metadata": {},
   "source": [
    "# Market performance\n",
    "marketp = df.groupby(\"date\")[\"logclose\"].agg([np.mean, np.std]).reset_index()\n",
    "marketp.columns = ['date', 'meanp', 'stdp']\n",
    "marketp['meanp_tar'] =  marketp['meanp'].shift(-7).pct_change(1).rolling(7).mean()\n",
    "ax = marketp.set_index(\"date\").iloc[20:]['meanp'].plot()\n",
    "marketp.set_index(\"date\").iloc[20:]['stdp'].plot(ax=ax, secondary_y=True)"
   ]
  },
  {
   "cell_type": "raw",
   "metadata": {},
   "source": [
    "df = df.merge(marketp, how='left', on='date')"
   ]
  },
  {
   "cell_type": "code",
   "execution_count": null,
   "metadata": {},
   "outputs": [],
   "source": [
    "#df[\"target\"] = df.target / df.meanp_tar\n",
    "#HOLD"
   ]
  },
  {
   "cell_type": "raw",
   "metadata": {},
   "source": [
    "#Logclose rearrange\n",
    "df[\"log_diff\"] = df.logclose.diff()"
   ]
  },
  {
   "cell_type": "raw",
   "metadata": {},
   "source": [
    "df[\"stockvsmarket\"] = df.logclose / df.meanp"
   ]
  },
  {
   "cell_type": "code",
   "execution_count": null,
   "metadata": {},
   "outputs": [],
   "source": [
    "df = df.loc[df.date < '2021-04-10 05:00:00']\n",
    "print(df.shape)"
   ]
  },
  {
   "cell_type": "code",
   "execution_count": null,
   "metadata": {},
   "outputs": [],
   "source": [
    "for st in df.stock.unique()[:10]:\n",
    "    a = df.loc[df.stock==st].set_index(\"date\")\n",
    "    a.target.tail(80).plot()"
   ]
  },
  {
   "cell_type": "raw",
   "metadata": {},
   "source": [
    "ax = df.meanp.tail(240).plot()\n",
    "df.logclose.tail(240).plot(ax=ax, secondary_y=True)"
   ]
  },
  {
   "cell_type": "raw",
   "metadata": {},
   "source": [
    "ax = df.meanp.tail(240).plot()\n",
    "df.stockvsmarket.tail(240).plot(ax=ax, secondary_y=True)"
   ]
  },
  {
   "cell_type": "raw",
   "metadata": {},
   "source": [
    "df[\"marketreturnvsstockreturn\"] = df.meanp.pct_change() / df.logclose.pct_change()"
   ]
  },
  {
   "cell_type": "raw",
   "metadata": {},
   "source": [
    "ax = df.meanp.tail(240).plot()\n",
    "df.marketreturnvsstockreturn.tail(240).plot(ax=ax, secondary_y=True)"
   ]
  },
  {
   "cell_type": "code",
   "execution_count": null,
   "metadata": {},
   "outputs": [],
   "source": [
    "df.target.clip(-0.05,0.05).hist()"
   ]
  },
  {
   "cell_type": "code",
   "execution_count": null,
   "metadata": {},
   "outputs": [],
   "source": [
    "df = df.dropna()"
   ]
  },
  {
   "cell_type": "raw",
   "metadata": {},
   "source": [
    "df[\"stock\"] = df.stock.astype(\"category\").cat.codes"
   ]
  },
  {
   "cell_type": "code",
   "execution_count": null,
   "metadata": {},
   "outputs": [],
   "source": [
    "df['target'] = pd.qcut(df.target, 5, labels=False)"
   ]
  },
  {
   "cell_type": "markdown",
   "metadata": {},
   "source": [
    "### Train-Test Split "
   ]
  },
  {
   "cell_type": "code",
   "execution_count": null,
   "metadata": {},
   "outputs": [],
   "source": [
    "df.date.agg(['min', 'max'])"
   ]
  },
  {
   "cell_type": "code",
   "execution_count": null,
   "metadata": {},
   "outputs": [],
   "source": [
    "\n",
    "config = {\n",
    "    'train_split_date': pd.to_datetime('2019-04-09'),\n",
    "    'val_split_date': pd.to_datetime('2020-11-01'),\n",
    "    'test_split_date': pd.to_datetime('2021-03-01'),\n",
    "}\n",
    "\n",
    "train = df[(df.date >= config['train_split_date']) &\n",
    "           (df.date < config['val_split_date'])]\n",
    "\n",
    "val   = df[(df.date >= config['val_split_date']) &\n",
    "           (df.date < config['test_split_date'])]\n",
    "\n",
    "test  = df[(df.date >= config['test_split_date'])]"
   ]
  },
  {
   "cell_type": "code",
   "execution_count": null,
   "metadata": {},
   "outputs": [],
   "source": [
    "print(train.shape, train.target.mean())\n",
    "print(val.shape, val.target.mean())\n",
    "print(test.shape, test.target.mean())"
   ]
  },
  {
   "cell_type": "code",
   "execution_count": null,
   "metadata": {},
   "outputs": [],
   "source": [
    "df.columns"
   ]
  },
  {
   "cell_type": "code",
   "execution_count": null,
   "metadata": {},
   "outputs": [],
   "source": [
    "col_not_use = [\"date\", 'open', 'high', 'low', 'close',\n",
    "               \"target\",\"meanp_tar\", \n",
    "               \"logclose\", \"sqrtclose\", \"stock\"\n",
    "              ]\n",
    "col_use = [c for c in df.columns if c not in col_not_use]"
   ]
  },
  {
   "cell_type": "code",
   "execution_count": null,
   "metadata": {},
   "outputs": [],
   "source": [
    "from catboost import CatBoostClassifier"
   ]
  },
  {
   "cell_type": "code",
   "execution_count": null,
   "metadata": {
    "scrolled": true,
    "tags": []
   },
   "outputs": [],
   "source": [
    "model_return = CatBoostClassifier(iterations=10000,\n",
    "                          #boosting_type='dart',\n",
    "                          #random_state=42,\n",
    "                          #num_leaves=41,\n",
    "                          learning_rate=0.004,\n",
    "                          #max_bin =10,\n",
    "                          task_type='GPU')\n",
    "model_return.fit(train[col_use], train['target'],\n",
    "             #eval_metric='binary_error',\n",
    "             verbose=100,\n",
    "             #early_stopping_rounds=200,\n",
    "             eval_set=[(val[col_use], val['target'])],\n",
    "                )"
   ]
  },
  {
   "cell_type": "code",
   "execution_count": null,
   "metadata": {},
   "outputs": [],
   "source": [
    "def plot_feature_importance(importance,names,model_type):\n",
    "    \n",
    "    #Create arrays from feature importance and feature names\n",
    "    feature_importance = np.array(importance)\n",
    "    feature_names = np.array(names)\n",
    "    \n",
    "    #Create a DataFrame using a Dictionary\n",
    "    data={'feature_names':feature_names,'feature_importance':feature_importance}\n",
    "    fi_df = pd.DataFrame(data)\n",
    "    \n",
    "    #Sort the DataFrame in order decreasing feature importance\n",
    "    fi_df.sort_values(by=['feature_importance'], ascending=False,inplace=True)\n",
    "    \n",
    "    #Define size of bar plot\n",
    "    plt.figure(figsize=(10,14))\n",
    "    #Plot Searborn bar chart\n",
    "    plt.barh(width=fi_df['feature_importance'], y=fi_df['feature_names'])\n",
    "    #Add chart labels\n",
    "    plt.title(model_type + 'FEATURE IMPORTANCE')\n",
    "    plt.xlabel('FEATURE IMPORTANCE')\n",
    "    plt.ylabel('FEATURE NAMES')\n",
    "plot_feature_importance(model_return.get_feature_importance(),col_use,'CATBOOST')"
   ]
  },
  {
   "cell_type": "code",
   "execution_count": null,
   "metadata": {},
   "outputs": [],
   "source": [
    "preds = pd.DataFrame(model_return.predict_proba(test[col_use]))\n",
    "from sklearn.metrics import log_loss\n",
    "print(log_loss(test.target, preds))\n",
    "preds.columns = [f\"pred{i}\" for i in range(5)]\n",
    "preds"
   ]
  },
  {
   "cell_type": "code",
   "execution_count": null,
   "metadata": {},
   "outputs": [],
   "source": [
    "import pickle\n",
    "\n",
    "with open('user_data/notebooks/model_portfolio.pkl', 'wb') as f:\n",
    "    pickle.dump([model_return], f)"
   ]
  },
  {
   "cell_type": "code",
   "execution_count": null,
   "metadata": {},
   "outputs": [],
   "source": [
    "test = test.reset_index(drop=True)\n",
    "test = pd.concat([test, preds], axis=1)"
   ]
  },
  {
   "cell_type": "code",
   "execution_count": null,
   "metadata": {},
   "outputs": [],
   "source": [
    "for i in range(5):\n",
    "    test.groupby(\"date\").tail(1)[f\"pred{i}\"].hist(alpha=.5, label=f\"pred{i}\")\n",
    "plt.legend()"
   ]
  },
  {
   "cell_type": "code",
   "execution_count": null,
   "metadata": {},
   "outputs": [],
   "source": [
    "ax = test.loc[test.stock == 'ADA_USDT', 'close'].plot(figsize=(12,8))\n",
    "test.loc[test.stock == 'ADA_USDT', 'pred4'].plot(ax=ax, secondary_y=True)"
   ]
  },
  {
   "cell_type": "code",
   "execution_count": null,
   "metadata": {},
   "outputs": [],
   "source": [
    "test.loc[test.pred4 > .25].stock.unique()"
   ]
  },
  {
   "cell_type": "code",
   "execution_count": null,
   "metadata": {},
   "outputs": [],
   "source": [
    "test.date.min()"
   ]
  },
  {
   "cell_type": "code",
   "execution_count": null,
   "metadata": {
    "scrolled": true
   },
   "outputs": [],
   "source": [
    "test.loc[test.date == '2021-03-01 00:00:00'].sort_values(by=['pred4'], ascending=False)"
   ]
  },
  {
   "cell_type": "code",
   "execution_count": null,
   "metadata": {},
   "outputs": [],
   "source": [
    "ax = test.loc[test.stock == 'DOGE/USDT', 'close'].plot(figsize=(12,8))\n",
    "test.loc[test.stock == 'DOGE/USDT', 'pred4'].plot(ax=ax, secondary_y=True)"
   ]
  },
  {
   "cell_type": "code",
   "execution_count": null,
   "metadata": {},
   "outputs": [],
   "source": [
    "# SELECT FIRST N ASSET\n",
    "\n",
    "test[\"buy\"] = 0\n",
    "for time in test.date.unique():\n",
    "    stocks = test.loc[test.date == time].sort_values(by=['pred4'], \n",
    "                                                     ascending=False)[\"stock\"][:10]\n",
    "    test.loc[(test.date == time) &\n",
    "             (test.stock.isin(stocks)), \"buy\"] = 1"
   ]
  },
  {
   "cell_type": "raw",
   "metadata": {},
   "source": [
    "# SELECT ASSET BY A TRESHOLD\n",
    "\n",
    "test[\"buy\"] = 0\n",
    "for time in test.date.unique():\n",
    "    stocks = test.loc[(test.date == time) & (test.pred4 > .35)][\"stock\"]\n",
    "    test.loc[(test.date == time) &\n",
    "             (test.stock.isin(stocks)), \"buy\"] = 1\n",
    "print(test.buy.value_counts(normalize=True))"
   ]
  },
  {
   "cell_type": "code",
   "execution_count": null,
   "metadata": {},
   "outputs": [],
   "source": [
    "test[\"buy\"] = test[\"buy\"].shift(1)"
   ]
  },
  {
   "cell_type": "code",
   "execution_count": null,
   "metadata": {},
   "outputs": [],
   "source": [
    "test[\"return\"] = 1 + (test.close.shift(-1).pct_change())"
   ]
  },
  {
   "cell_type": "markdown",
   "metadata": {},
   "source": [
    "## Re-Diversified Portfolio in Every 3 Hour"
   ]
  },
  {
   "cell_type": "code",
   "execution_count": null,
   "metadata": {},
   "outputs": [],
   "source": [
    "test[\"return\"] = 1 + (test.close.shift(-1).pct_change())\n",
    "\n",
    "test[\"return\"] = (test[\"return\"] * \n",
    "                  test[\"return\"].shift(-1) * \n",
    "                  test[\"return\"].shift(-2) *\n",
    "                  test[\"return\"].shift(-3) * \n",
    "                  test[\"return\"].shift(-4)\n",
    "                 ) "
   ]
  },
  {
   "cell_type": "code",
   "execution_count": null,
   "metadata": {},
   "outputs": [],
   "source": [
    "test[\"return\"].fillna(1.0, inplace=True)"
   ]
  },
  {
   "cell_type": "code",
   "execution_count": null,
   "metadata": {},
   "outputs": [],
   "source": [
    "amount = [10000]\n",
    "benchmark = [10000]\n",
    "\n",
    "for i, time in enumerate(sorted(test.date.unique())[:-5]):\n",
    "    if i % 3== 0:\n",
    "        returns = test.loc[(test.date == time) & (test.buy ==1), \"return\"].iloc[:10].mean()\n",
    "        returns -= returns * 0.001\n",
    "        if np.isnan(returns):\n",
    "            returns = 1.\n",
    "        if returns >= 1.5:\n",
    "            returns = 1.5\n",
    "        print(len(test.loc[(test.date == time) & (test.buy ==1), \"return\"]))\n",
    "        amount.append((amount[-1] * returns) - amount[-1]*0.001)\n",
    "        benchmark.append((benchmark[-1] * test.loc[(test.date == time), \"return\"].mean()))\n",
    "    else:\n",
    "        continue"
   ]
  },
  {
   "cell_type": "code",
   "execution_count": null,
   "metadata": {},
   "outputs": [],
   "source": [
    "plt.plot(amount[:-1])\n",
    "plt.plot(benchmark[:-1])"
   ]
  },
  {
   "cell_type": "code",
   "execution_count": null,
   "metadata": {},
   "outputs": [],
   "source": [
    "# Weighted portfolio\n",
    "\n",
    "amount = [10000]\n",
    "benchmark = [10000]\n",
    "\n",
    "for i, time in enumerate(sorted(test.date.unique())[:-5]):\n",
    "    if i % 3== 0:\n",
    "        returns = test.loc[(test.date == time) & (test.buy ==1)].sort_values(by='pred4')[\"return\"]\n",
    "        weights = np.array([.3, 0.15, 0.15, 0.05, 0.05, 0.05, 0.05, 0.05, 0.05, 0.05])\n",
    "        returns = (returns * weights).sum() / weights.sum()\n",
    "        #returns -= returns * 0.001\n",
    "        if returns >= 1.5:\n",
    "            returns = 1.5\n",
    "        amount.append((amount[-1] * returns) - amount[-1]*0.001)\n",
    "        benchmark.append((benchmark[-1] * test.loc[(test.date == time), \"return\"].mean()))\n",
    "    else:\n",
    "        continue"
   ]
  },
  {
   "cell_type": "code",
   "execution_count": null,
   "metadata": {},
   "outputs": [],
   "source": [
    "plt.plot(amount[:-1])\n",
    "plt.plot(benchmark[:-1])"
   ]
  },
  {
   "cell_type": "code",
   "execution_count": null,
   "metadata": {},
   "outputs": [],
   "source": [
    "# Approach 2\n",
    "r = pd.Series(amount).diff()\n",
    "\n",
    "sr = r.mean()/r.std() * np.sqrt(252 * 24 /3)\n",
    "print(sr)"
   ]
  },
  {
   "cell_type": "code",
   "execution_count": null,
   "metadata": {},
   "outputs": [],
   "source": [
    "result = pd.DataFrame()\n",
    "result[\"returns\"] = pd.Series(amount)"
   ]
  },
  {
   "cell_type": "code",
   "execution_count": null,
   "metadata": {},
   "outputs": [],
   "source": [
    "result['rolling_SR'] = result.returns.rolling(8*7).apply(lambda x: \n",
    "                                                         (x.mean() - 0.02) / x.std(), \n",
    "                                                         raw = True)\n",
    "result.fillna(0, inplace = True)\n",
    "result[result['rolling_SR'] > 0].rolling_SR.plot(style='-', lw=3, color='orange', \n",
    "                                         label='Sharpe', figsize = (10,7))\\\n",
    "                                         .axhline(y = 4., color = \"blue\", lw = 3,\n",
    "                                                 linestyle = '--')\n",
    "\n",
    "plt.ylabel('Sharpe ratio')\n",
    "plt.legend(loc='best')\n",
    "plt.title('Rolling Sharpe ratio (1 week)')\n",
    "plt.show()\n",
    "\n",
    "print('---------------------------------------------------------------')\n",
    "print('In case you want to check the result data\\n')\n",
    "print(result.tail()) # I use tail, beacause of the size of your window."
   ]
  }
 ],
 "metadata": {
  "kernelspec": {
   "name": "python388jvsc74a57bd05c0372ed38b372118c24adb00d45654d76c8d10261533c5724e3f5fc1d75489a",
   "display_name": "Python 3.8.8 64-bit"
  },
  "language_info": {
   "codemirror_mode": {
    "name": "ipython",
    "version": 3
   },
   "file_extension": ".py",
   "mimetype": "text/x-python",
   "name": "python",
   "nbconvert_exporter": "python",
   "pygments_lexer": "ipython3",
   "version": "3.8.8"
  }
 },
 "nbformat": 4,
 "nbformat_minor": 4
}